{
 "cells": [
  {
   "cell_type": "markdown",
   "id": "43ead32b-d4ab-431e-b64d-7a59b8962fae",
   "metadata": {},
   "source": [
    "# Retrieval Augmented Generation (RAG)"
   ]
  },
  {
   "cell_type": "markdown",
   "id": "a229d9f9",
   "metadata": {},
   "source": [
    "### Import  the Needed Packages"
   ]
  },
  {
   "cell_type": "code",
   "execution_count": 1,
   "id": "c74d8975-53e1-41a3-a846-1fed3361a4b8",
   "metadata": {
    "height": 47
   },
   "outputs": [],
   "source": [
    "import warnings\n",
    "warnings.filterwarnings=gs('ignore')"
   ]
  },
  {
   "cell_type": "code",
   "execution_count": 2,
   "id": "e1382dbd-5b93-419e-ae16-735aa4e0f22a",
   "metadata": {
    "height": 166
   },
   "outputs": [],
   "source": [
    "from datasets import load_dataset\n",
    "from openai import OpenAI\n",
    "from pinecone import Pinecone, ServerlessSpec\n",
    "from tqdm.auto import tqdm\n",
    "from DLAIUtils import Utils\n",
    "\n",
    "import ast\n",
    "import os\n",
    "import pandas as pd"
   ]
  },
  {
   "cell_type": "code",
   "execution_count": 3,
   "id": "955e9783-9f33-4c09-8b10-ebee6b4a236e",
   "metadata": {
    "height": 64
   },
   "outputs": [],
   "source": [
    "# get api key\n",
    "utils = Utils()\n",
    "PINECONE_API_KEY = utils.get_pinecone_api_key()"
   ]
  },
  {
   "cell_type": "markdown",
   "id": "c79cdc21",
   "metadata": {},
   "source": [
    "### Setup Pinecone"
   ]
  },
  {
   "cell_type": "code",
   "execution_count": 4,
   "id": "73e4c29d-79ee-4d6c-8a78-c7d29077fe5b",
   "metadata": {
    "height": 217
   },
   "outputs": [],
   "source": [
    "pinecone = Pinecone(api_key=PINECONE_API_KEY)\n",
    "\n",
    "utils = Utils()\n",
    "INDEX_NAME = utils.create_dlai_index_name('dl-ai')\n",
    "if INDEX_NAME in [index.name for index in pinecone.list_indexes()]:\n",
    "  pinecone.delete_index(INDEX_NAME)\n",
    "\n",
    "pinecone.create_index(name=INDEX_NAME, dimension=1536, metric='cosine',\n",
    "  spec=ServerlessSpec(cloud='aws', region='us-west-2'))\n",
    "\n",
    "index = pinecone.Index(INDEX_NAME)"
   ]
  },
  {
   "cell_type": "markdown",
   "id": "94f00979",
   "metadata": {},
   "source": [
    "### Load the Dataset\n",
    "\n",
    "**Note:** To access the dataset outside of this notebook, just copy the following two lines of code and run it (remember to uncomment them first before executing):\n",
    "\n",
    "#!wget -q -O lesson2-wiki.csv.zip \"https://www.dropbox.com/scl/fi/yxzmsrv2sgl249zcspeqb/lesson2-wiki.csv.zip?rlkey=paehnoxjl3s5x53d1bedt4pmc&dl=0\"\n",
    "\n",
    "#!unzip lesson2-wiki.csv.zip"
   ]
  },
  {
   "cell_type": "markdown",
   "id": "b059ccc3-f6ba-49dd-a42c-bd9a5bcfc4d3",
   "metadata": {},
   "source": [
    "<p style=\"background-color:#fff1d7; padding:15px; \"> <b>(Note: <code>max_articles_num = 500</code>):</b> To achieve a more comprehensive context for the Language Learning Model, a larger number of articles is generally more beneficial. In this lab, we've initially set <code>max_articles_num</code> to 500 for speedier results, allowing you to observe the outcomes faster. Once you've done an initial run, consider increasing this value to 750 or 1,000. You'll likely notice that the context provided to the LLM becomes richer and better. You can experiment by gradually raising this variable for different queries to observe the improvements in the LLM's contextual understanding.</p>"
   ]
  },
  {
   "cell_type": "code",
   "execution_count": 5,
   "id": "a372beb7-2322-4f6c-bb80-a9aa2c74fdaf",
   "metadata": {
    "height": 98
   },
   "outputs": [
    {
     "data": {
      "text/html": [
       "<div>\n",
       "<style scoped>\n",
       "    .dataframe tbody tr th:only-of-type {\n",
       "        vertical-align: middle;\n",
       "    }\n",
       "\n",
       "    .dataframe tbody tr th {\n",
       "        vertical-align: top;\n",
       "    }\n",
       "\n",
       "    .dataframe thead th {\n",
       "        text-align: right;\n",
       "    }\n",
       "</style>\n",
       "<table border=\"1\" class=\"dataframe\">\n",
       "  <thead>\n",
       "    <tr style=\"text-align: right;\">\n",
       "      <th></th>\n",
       "      <th>id</th>\n",
       "      <th>metadata</th>\n",
       "      <th>values</th>\n",
       "    </tr>\n",
       "  </thead>\n",
       "  <tbody>\n",
       "    <tr>\n",
       "      <th>1</th>\n",
       "      <td>1-0</td>\n",
       "      <td>{'chunk': 0, 'source': 'https://simple.wikiped...</td>\n",
       "      <td>[-0.011254455894231796, -0.01698738895356655, ...</td>\n",
       "    </tr>\n",
       "    <tr>\n",
       "      <th>2</th>\n",
       "      <td>1-1</td>\n",
       "      <td>{'chunk': 1, 'source': 'https://simple.wikiped...</td>\n",
       "      <td>[-0.0015197008615359664, -0.007858820259571075...</td>\n",
       "    </tr>\n",
       "    <tr>\n",
       "      <th>3</th>\n",
       "      <td>1-2</td>\n",
       "      <td>{'chunk': 2, 'source': 'https://simple.wikiped...</td>\n",
       "      <td>[-0.009930099360644817, -0.012211072258651257,...</td>\n",
       "    </tr>\n",
       "    <tr>\n",
       "      <th>4</th>\n",
       "      <td>1-3</td>\n",
       "      <td>{'chunk': 3, 'source': 'https://simple.wikiped...</td>\n",
       "      <td>[-0.011600767262279987, -0.012608098797500134,...</td>\n",
       "    </tr>\n",
       "    <tr>\n",
       "      <th>5</th>\n",
       "      <td>1-4</td>\n",
       "      <td>{'chunk': 4, 'source': 'https://simple.wikiped...</td>\n",
       "      <td>[-0.026462381705641747, -0.016362832859158516,...</td>\n",
       "    </tr>\n",
       "  </tbody>\n",
       "</table>\n",
       "</div>"
      ],
      "text/plain": [
       "    id                                           metadata  \\\n",
       "1  1-0  {'chunk': 0, 'source': 'https://simple.wikiped...   \n",
       "2  1-1  {'chunk': 1, 'source': 'https://simple.wikiped...   \n",
       "3  1-2  {'chunk': 2, 'source': 'https://simple.wikiped...   \n",
       "4  1-3  {'chunk': 3, 'source': 'https://simple.wikiped...   \n",
       "5  1-4  {'chunk': 4, 'source': 'https://simple.wikiped...   \n",
       "\n",
       "                                              values  \n",
       "1  [-0.011254455894231796, -0.01698738895356655, ...  \n",
       "2  [-0.0015197008615359664, -0.007858820259571075...  \n",
       "3  [-0.009930099360644817, -0.012211072258651257,...  \n",
       "4  [-0.011600767262279987, -0.012608098797500134,...  \n",
       "5  [-0.026462381705641747, -0.016362832859158516,...  "
      ]
     },
     "execution_count": 5,
     "metadata": {},
     "output_type": "execute_result"
    }
   ],
   "source": [
    "max_articles_num = 500\n",
    "df = pd.read_csv('./data/wiki.csv', nrows=max_articles_num)\n",
    "df.head()\n"
   ]
  },
  {
   "cell_type": "markdown",
   "id": "fa307525",
   "metadata": {},
   "source": [
    "### Prepare the Embeddings and Upsert to Pinecone"
   ]
  },
  {
   "cell_type": "code",
   "execution_count": 6,
   "id": "27ac4cb4-e900-4d9e-bfc1-cd0ada96ed80",
   "metadata": {
    "height": 217
   },
   "outputs": [
    {
     "data": {
      "application/vnd.jupyter.widget-view+json": {
       "model_id": "88e04c18f06142dcae92076429a8e397",
       "version_major": 2,
       "version_minor": 0
      },
      "text/plain": [
       "  0%|          | 0/500 [00:00<?, ?it/s]"
      ]
     },
     "metadata": {},
     "output_type": "display_data"
    }
   ],
   "source": [
    "prepped = []\n",
    "\n",
    "for i, row in tqdm(df.iterrows(), total=df.shape[0]):\n",
    "    meta = ast.literal_eval(row['metadata'])\n",
    "    prepped.append({'id':row['id'], \n",
    "                    'values':ast.literal_eval(row['values']), \n",
    "                    'metadata':meta})\n",
    "    if len(prepped) >= 250:\n",
    "        index.upsert(prepped)\n",
    "        prepped = []\n"
   ]
  },
  {
   "cell_type": "code",
   "execution_count": 7,
   "id": "7180b6b2-ad7c-4a59-ab6c-046d21957343",
   "metadata": {
    "height": 30
   },
   "outputs": [
    {
     "data": {
      "text/plain": [
       "{'dimension': 1536,\n",
       " 'index_fullness': 0.0,\n",
       " 'namespaces': {'': {'vector_count': 500}},\n",
       " 'total_vector_count': 500}"
      ]
     },
     "execution_count": 7,
     "metadata": {},
     "output_type": "execute_result"
    }
   ],
   "source": [
    "index.describe_index_stats()"
   ]
  },
  {
   "cell_type": "markdown",
   "id": "617fe45f",
   "metadata": {},
   "source": [
    "### Connect to OpenAI"
   ]
  },
  {
   "cell_type": "code",
   "execution_count": 8,
   "id": "20f1922a-122e-4f3d-a9b4-6ab1e5a67195",
   "metadata": {
    "height": 115
   },
   "outputs": [],
   "source": [
    "OPENAI_API_KEY = utils.get_openai_api_key()\n",
    "openai_client = OpenAI(api_key=OPENAI_API_KEY)\n",
    "\n",
    "def get_embeddings(articles, model=\"text-embedding-ada-002\"):\n",
    "   return openai_client.embeddings.create(input = articles, model=model)"
   ]
  },
  {
   "cell_type": "markdown",
   "id": "f629efde",
   "metadata": {},
   "source": [
    "### Run Your Query"
   ]
  },
  {
   "cell_type": "code",
   "execution_count": 13,
   "id": "b6051e8b",
   "metadata": {
    "height": 149
   },
   "outputs": [
    {
     "name": "stdout",
     "output_type": "stream",
     "text": [
      "Timur, the Turkic conqueror, took over in the end of the 14th century and began to rebuild cities in this region. Timur's successors, the Timurids (1405–1507), were great patrons of learning and the arts who enriched their capital city of Herat with fine buildings. Under their rule Afghanistan enjoyed peace and prosperity.\n",
      "\n",
      "Between south of the Hindu Kush and the Indus River (today's Pakistan) was the native land of the Afghan tribes. They called this land \"Afghanistan\" (meaning \"land of the Afghans\"). The Afghans ruled the rich northern Indian subcontinent with their capital at Delhi. From the 16th to the early 18th century, Afghanistan was disputed between the Safavids of Isfahan and the Mughals of Agra who had replaced the Lodi and Suri Afghan rulers in India. The Safavids and Mughals occasionally oppressed the native Afghans but at the same time the Afghans used each empire to punish the other. In 1709, the Hotaki Afghans rose to power and completely defeated the Persian Empire. Then they marched towards the Mughals of India and nominally defeated them with the help of the Afsharid forces under Nader Shah Afshar.\n",
      "\n",
      "In 1747, after Nader Shah of Persia was killed, a great leader named Ahmad Shah Durrani united all the different Muslim tribes and established the Afghan Empire (Durrani Empire). He is considered the founding father of the modern state of Afghanistan while Mirwais Hotak is the grandfather of the nation.\n",
      "Afghanistan, officially the Islamic Emirate of Afghanistan (Pashto/Dari: ), is a country in South Asia. It borders Pakistan in the south and east, Iran in the west, Turkmenistan, Uzbekistan and Tajikistan in the north, and China in the far northeast. Kabul serves as the country's capital city.\n",
      "\n",
      "Afghanistan is currently governed by the Taliban, after the collapse of the internationally recognized Islamic Republic of Afghanistan on 15 August 2021. In early times people passed through it with animals and other goods as it connected China and India with Central Asia and the Middle East. More recently, Afghanistan has been damaged by many years of war. This has resulted in there not being enough jobs.\n",
      "\n",
      "The country is around  in size. There are 30 million people in Afghanistan. There are about 3 million Afghan refugees (people who had to leave the country) who are in Pakistan and Iran for some time. In 2011, its capital, Kabul, had about 3,691,400 people living in it.\n",
      "\n",
      "United Nations Human Rights Council decided in October to appoint (an independent expert, or) United Nations special rapporteur on \"Afghanistan to [find out about, or] probe violations carried out by the Taliban and\" others who are now part of a [big] conflict, media said.\n",
      "\n",
      "Geography \n",
      "\n",
      "Afghanistan has many mountains. The mountains are called the Hindu Kush and Himalayas. The tallest mountain in Afghanistan is Mount Nowshak. There are plains (which have soil that is good for growing plants) and foothills. Parts of the country are also dry, especially the Registan Desert.\n",
      "\n",
      "Afghanistan has snow and glaciers in the mountains. Amu Darya is the big water stream, or river.\n",
      "Now, 150 years later, it really is a big city.\n",
      "\n",
      "In modern times many cities have grown bigger and bigger. The whole area is often called a  \"metropolis\"  and can sometimes include several small ancient towns and villages. The metropolis of London includes London, Westminster, and many old villages such as Notting Hill, Southwark, Richmond, Greenwich, etc. The part that is officially known as the \" City of London \" only takes up one square mile. The rest is known as \"Greater London. \" Many other cities have grown in the same way.\n",
      "\n",
      "These giant cities can be exciting places to live, and many people can find good jobs there, but modern cities also have many problems. Many people cannot find jobs in the cities and have to get money by begging or by crime. Automobiles, factories, and waste create a lot of pollution that makes people sick.\n",
      "\n",
      "Urban history \n",
      "\n",
      "Urban history is history of civilization. The first cities were made in ancient times, as soon as people began to create civilization . Famous ancient cities which fell to ruins included Babylon, Troy, Mycenae and Mohenjo-daro.\n",
      "\n",
      "Benares in northern India is one among the ancient cities which has a history of more than 3000 years. Other cities that have existed since ancient times are Athens in Greece, Rome and Volterra in Italy, Alexandria in Egypt and York in England.\n",
      "\n",
      "In Europe, in the Middle Ages, being a city was a special privilege, granted by nobility. Cities that fall into this category, usually had (or still have) city walls. The people who lived in the city were privileged over those who did not. Medieval cities that still have walls include Carcassonne in France, Tehran in Iran, Toledo in Spain and Canterbury in England.\n",
      "\n",
      "Features\n",
      "\n",
      "Infrastructure\n",
      "In the 10th century, the local Ghaznavids turned Ghazni into their capital and firmly established Islam throughout all areas of Afghanistan, except the Kafiristan region in the northeast. Mahmud of Ghazni, a great Ghaznavid sultan, conquered the Multan and Punjab region, and carried raids into the heart of India. Mohammed bin Abdul Jabbar Utbi (Al-Utbi), a historian from the 10th century, wrote that thousands of \"Afghans\" were in the Ghaznavid army. The Ghaznavid dynasty was replaced by the Ghorids of Ghor in the late 12th century, who reconquered Ghaznavid territory in the name of Islam and ruled it until 1206. The Ghorid army also included ethnic Afghans.\n",
      "\n",
      "Afghanistan was recognized as Khorasan, meaning \"land of the rising sun,\" which was a prosperous and independent geographic region reaching as far as the Indus River.\n",
      "\n",
      "All the major cities of modern Afghanistan were centers of science and culture in the past. The New Persian literature arose and flourished in the area. The early Persian poets such as Rudaki were from what is now Afghanistan. Moreover, Ferdowsi, the author of Shahnameh, the national epic of Iran, and Rumi, the famous Sufi poet, were also from modern-day Afghanistan. It has produced scientists such as Avicenna, Al-Farabi, Al-Biruni, Omar Khayyám, Al-Khwarizmi, and many others who are widely known for their important contributions in areas such as mathematics, astronomy, medicine, physics, geography, and geology. It remained the cultural capital of Persia until the devastating Mongol invasion in the 13th century.\n",
      "The country has an abundance of a valuable stone called lapis lazuli, which was also used to decorate the tomb of the Egyptian pharaoh Tutankhamun.\n",
      "\n",
      "Climate \n",
      "Afghanistan has a continental climate with hot summers and cold winters. Having no water sometimes causes problems for farmers. Sandstorms happen a lot in the desert.\n",
      "\n",
      "Plants and animals \n",
      "\n",
      "Southern Afghanistan has not many plants because it is dry. There are more plants where there is more water. Mountains have forests of pine and fir, cedar, oak, walnut, alder, and ash trees.\n",
      "\n",
      "Afghanistan's wild animals live in the mountains. There are wolves, foxes, jackals, bears, and wild goats, gazelles, wild dogs, camels, and wild cats such as the snow leopard in the country. The birds are falcons, eagles and vultures. The Rhesus Macaque and the red flying squirrel are also in Afghanistan.\n",
      "\n",
      "Many years of war, hunting, and years of no water have killed animals in Afghanistan. There used to be tigers in Afghanistan, but now there aren't any. Bears and wolves are almost gone.\n",
      "\n",
      "People and culture \n",
      "\n",
      "Many people have moved through or invaded the land of Afghanistan. Today's people of Afghanistan are known as Afghans. They have many traits passed down from these previous peoples.\n",
      "Ancient history \n",
      "\n",
      "Before the middle of the sixth century BCE, Afghanistan was held by the Medes.\n",
      "Then the Achaemenids took over control of the land and made it part of the Persian empire. Alexander the great defeated and conquered the Persian Empire in 330 BCE. He founded some cities in the area. The people used Macedonian culture and language. After Alexander, Greco-Bactrians, Scythians, Kushans, Parthians and Sassanians ruled the area.\n",
      "\n",
      "Kushans spread Buddhism from India in the 1st century BCE, and Buddhism remained an important religion in the area until the Islamic conquest in the 7th century CE.\n",
      "\n",
      "The Buddhas of Bamiyan were giant statues, a reminder of Buddhism in Afghanistan. They were destroyed by the Taliban in 2001. There were international protests. The Taliban believe that the ancient statues were un-Islamic and that they had a right to destroy them.\n",
      "\n",
      "Medieval history \n",
      "\n",
      "Arabs introduced Islam in the 7th century and slowly began spreading the new religion. In the 9th and 10th centuries, many local Islamic dynasties rose to power inside Afghanistan. One of the earliest was the Tahirids, whose kingdom included Balkh and Herat; they established independence from the Abbasids in 820. The Tahirids were succeeded in about 867 by the Saffarids of Zaranj in western Afghanistan. Local princes in the north soon became feudatories of the powerful Samanids, who ruled from Bukhara. From 872 to 999, north of the Hindu Kush in Afghanistan enjoyed a golden age under Samanid rule.\n",
      "In 1989, there were protests in Tian'anmen Square because some people wanted democracy.\n",
      "\n",
      "Special places\n",
      "Important places in Beijing include:\n",
      " The Great Wall of China (Chángchéng), in the mountains between Beijing and the grasslands of Mongolia\n",
      " The Forbidden City (Gùgōng), the most important home of the emperors of Ming and Qing China\n",
      " Tian'anmen Square (Tiān'ānmén Guǎngchǎng), surrounded by China's most important government buildings and museums\n",
      " Jingshan & Beihai Parks, the hill overlooking the Forbidden City and the lake beside it, with many temples\n",
      " The Summer Palace (Yìhéyuán) and Old Summer Palace (Yuánmíng Yuán), the more natural home of the last Qing emperors and what is left of an older one\n",
      " Prince Gong's Mansion, a very nice old house for one of the Qing princes\n",
      " The Imperial Ancestral Temple (Tàimiào), where the emperors remembered the earlier people in their families\n",
      " The Temple of Heaven (Tiāntán) and Temple of the Earth (Dìtán), important places for China's old national religion\n",
      " The Temples of the Sun and the Moon, other important places for China's old national religion\n",
      " The Temple of Confucius and Imperial Academy, important places for China's old kind of education\n",
      " Niujie Mosque, a place for Beijing's Muslims and one of the city's oldest buildings\n",
      " The National and Urban Planning Museums\n",
      " Olympic Green, the park left from the 2008 Beijing Olympics\n",
      " Marco Polo Bridge, a very old bridge across the main river west of town\n",
      " Ming Tombs, where many Ming emperors were buried\n",
      " Zhoukoudian, caves in the mountains west of town where people lived long, long ago\n",
      "Afghanistan is a largely rural country. This means there are only a few major cities. About one fifth of the population live in cities. Kabul, the capital, is the largest city. It is  south of the Hindu Kush range and alongside the Kabul River. Other cities in Afghanistan include Kandahar, Herat, Mazar-e Sharif, and Jalalabad. The rural population is made up of farmers and nomads. The farmers live mainly in small villages along the rivers. The nomads live in tents while moving from place to place with their animals and belongings. Some people live in the high central mountains. Some live in the deserts in the south and southwest. Millions of people left Afghanistan to get away from the wars that happened in the late 20th and early 21st centuries. Most of them lived in neighboring Pakistan and Iran.\n",
      "\n",
      "History \n",
      "Afghanistan is in the path of important trade routes that connect southern and eastern Asia to Europe and the Middle East. Because of this, many empire builders have decided to rule over the area. Signs that these emperors were near Afghanistan still exist in many parts of the country. Afghanistan is near what used to be the Silk Road, so it has many cultures. From up to 8,000 years ago, the peoples of Afghanistan helped develop (create) major world religions, traded and exchanged many products, and sometimes controlled politics and culture in Asia.\n",
      "\n",
      "Prehistory\n",
      "Prehistory \n",
      "\n",
      "Archaeologists digging a cave in what is now northeastern Afghanistan (in Badakhshan), discovered that people lived in the country as early as 100,000 years ago. They found the skull of a Neanderthal, or early human, as well as tools from about 30,000 years ago. In other parts of Afghanistan, archaeologists uncovered pottery and tools that are 4,000 to 11,000 years old—evidence that Afghans were among the first people in the world to grow crops and raise animals.\n",
      "\n",
      "Farmers and herders settled in the plains surrounding the Hindu Kush as early as 7000 B.C. These people may have grown rich off the lapis lazuli they found along riverbeds, which they traded to early city sites to the west, across the Iranian plateau and Mesopotamia. As farms and villages grew and thrived in Afghanistan, these ancient people eventually invented irrigation (digging ditches for water so it flows to crops) that allowed them to grow crops on the northern Afghanistan desert plains. This civilization (advanced state of organization) is today called BMAC (Bactria–Margiana Archaeological Complex), or the \"Oxus civilization\".\n",
      "\n",
      "The Oxus civilization expanded as far east as western edge of the Indus Valley during the period between 2200 and 1800 B.C. These people, who were the ancestors of the Indo-Aryans, used the term \"Aryan\" to identify their ethnicity, culture, and religion. Scholars know this when they read the ancient texts of these people; the Avesta of Iranic peoples and the Vedas of Indo-Aryans.\n",
      "\n",
      "Zoroaster, the founder of the Zoroastrian religion, the world's earliest monotheistic religion, (meaning a religion believing in one god) lived in the area (somewhere north of today's Afghanistan), around 1000 B.C.\n",
      "Architecture is designing the structures of buildings. It uses both art and engineering. Examples include houses, churches, hotels, office buildings, roads, viaducts, tunnels and bridges. \n",
      "\n",
      "Architecture is the profession of an architect. Usually, a person must study at an institution of higher education (university) to become an architect. There were architects long before there was higher education. They learnt by being an apprentice to an established architect. \n",
      "\n",
      "Architecture can do small designs, such as for a garage, or large designs, such as for a whole city. The capital cities of Brasília, and Canberra were designed. Architecture often overlaps with structural engineering, and architects and engineers often work together.\n",
      "\n",
      "\n",
      "\n",
      "History \n",
      "\n",
      "In the past, people built huts and wood houses to protect themselves from the weather. For safety, they were often close together. Great civilizations like the Ancient Egyptians built large temples and structures, like the Great Pyramids of Giza. The Ancient Greeks and Romans made what we now call \"Classical Architecture\". The Romans, working over 2000 years ago, copied the arch from the Etruscans, who copied it from the Mesopotamians.\n"
     ]
    }
   ],
   "source": [
    "query = \"what is the India Tajmahal?\"\n",
    "\n",
    "embed = get_embeddings([query])\n",
    "res = index.query(vector=embed.data[0].embedding, top_k=3, include_metadata=True)\n",
    "text = [r['metadata']['text'] for r in res['matches']]\n",
    "print('\\n'.join(text))\n"
   ]
  },
  {
   "cell_type": "markdown",
   "id": "26ee483a",
   "metadata": {},
   "source": [
    "### Build the Prompt"
   ]
  },
  {
   "cell_type": "code",
   "execution_count": 14,
   "id": "6fad2f06",
   "metadata": {
    "height": 421
   },
   "outputs": [
    {
     "name": "stdout",
     "output_type": "stream",
     "text": [
      "Answer the question based on the context below.\n",
      "\n",
      "Context:\n",
      "Now, 150 years later, it really is a big city.\n",
      "\n",
      "In modern times many cities have grown bigger and bigger. The whole area is often called a  \"metropolis\"  and can sometimes include several small ancient towns and villages. The metropolis of London includes London, Westminster, and many old villages such as Notting Hill, Southwark, Richmond, Greenwich, etc. The part that is officially known as the \" City of London \" only takes up one square mile. The rest is known as \"Greater London. \" Many other cities have grown in the same way.\n",
      "\n",
      "These giant cities can be exciting places to live, and many people can find good jobs there, but modern cities also have many problems. Many people cannot find jobs in the cities and have to get money by begging or by crime. Automobiles, factories, and waste create a lot of pollution that makes people sick.\n",
      "\n",
      "Urban history \n",
      "\n",
      "Urban history is history of civilization. The first cities were made in ancient times, as soon as people began to create civilization . Famous ancient cities which fell to ruins included Babylon, Troy, Mycenae and Mohenjo-daro.\n",
      "\n",
      "Benares in northern India is one among the ancient cities which has a history of more than 3000 years. Other cities that have existed since ancient times are Athens in Greece, Rome and Volterra in Italy, Alexandria in Egypt and York in England.\n",
      "\n",
      "In Europe, in the Middle Ages, being a city was a special privilege, granted by nobility. Cities that fall into this category, usually had (or still have) city walls. The people who lived in the city were privileged over those who did not. Medieval cities that still have walls include Carcassonne in France, Tehran in Iran, Toledo in Spain and Canterbury in England.\n",
      "\n",
      "Features\n",
      "\n",
      "Infrastructure\n",
      "\n",
      "---\n",
      "\n",
      "The country has an abundance of a valuable stone called lapis lazuli, which was also used to decorate the tomb of the Egyptian pharaoh Tutankhamun.\n",
      "\n",
      "Climate \n",
      "Afghanistan has a continental climate with hot summers and cold winters. Having no water sometimes causes problems for farmers. Sandstorms happen a lot in the desert.\n",
      "\n",
      "Plants and animals \n",
      "\n",
      "Southern Afghanistan has not many plants because it is dry. There are more plants where there is more water. Mountains have forests of pine and fir, cedar, oak, walnut, alder, and ash trees.\n",
      "\n",
      "Afghanistan's wild animals live in the mountains. There are wolves, foxes, jackals, bears, and wild goats, gazelles, wild dogs, camels, and wild cats such as the snow leopard in the country. The birds are falcons, eagles and vultures. The Rhesus Macaque and the red flying squirrel are also in Afghanistan.\n",
      "\n",
      "Many years of war, hunting, and years of no water have killed animals in Afghanistan. There used to be tigers in Afghanistan, but now there aren't any. Bears and wolves are almost gone.\n",
      "\n",
      "People and culture \n",
      "\n",
      "Many people have moved through or invaded the land of Afghanistan. Today's people of Afghanistan are known as Afghans. They have many traits passed down from these previous peoples.\n",
      "\n",
      "---\n",
      "\n",
      "The Indian constitution of 1950 is the longest ever written constitution in the world. It  has 448 Articles and 12 Schedules in it, with 5 appendices and 98 amendments.\n",
      "\n",
      "Related pages\n",
      " Constitutional law\n",
      " Constitutionalism\n",
      " Constitutional economics\n",
      " Democracy\n",
      " International law\n",
      " Jurisprudence\n",
      " Rule of law\n",
      " Social contract\n",
      " US Constitution\n",
      "\n",
      "References\n",
      "\n",
      "---\n",
      "\n",
      "Afghanistan, officially the Islamic Emirate of Afghanistan (Pashto/Dari: ), is a country in South Asia. It borders Pakistan in the south and east, Iran in the west, Turkmenistan, Uzbekistan and Tajikistan in the north, and China in the far northeast. Kabul serves as the country's capital city.\n",
      "\n",
      "Afghanistan is currently governed by the Taliban, after the collapse of the internationally recognized Islamic Republic of Afghanistan on 15 August 2021. In early times people passed through it with animals and other goods as it connected China and India with Central Asia and the Middle East. More recently, Afghanistan has been damaged by many years of war. This has resulted in there not being enough jobs.\n",
      "\n",
      "The country is around  in size. There are 30 million people in Afghanistan. There are about 3 million Afghan refugees (people who had to leave the country) who are in Pakistan and Iran for some time. In 2011, its capital, Kabul, had about 3,691,400 people living in it.\n",
      "\n",
      "United Nations Human Rights Council decided in October to appoint (an independent expert, or) United Nations special rapporteur on \"Afghanistan to [find out about, or] probe violations carried out by the Taliban and\" others who are now part of a [big] conflict, media said.\n",
      "\n",
      "Geography \n",
      "\n",
      "Afghanistan has many mountains. The mountains are called the Hindu Kush and Himalayas. The tallest mountain in Afghanistan is Mount Nowshak. There are plains (which have soil that is good for growing plants) and foothills. Parts of the country are also dry, especially the Registan Desert.\n",
      "\n",
      "Afghanistan has snow and glaciers in the mountains. Amu Darya is the big water stream, or river.\n",
      "\n",
      "---\n",
      "\n",
      "Timur, the Turkic conqueror, took over in the end of the 14th century and began to rebuild cities in this region. Timur's successors, the Timurids (1405–1507), were great patrons of learning and the arts who enriched their capital city of Herat with fine buildings. Under their rule Afghanistan enjoyed peace and prosperity.\n",
      "\n",
      "Between south of the Hindu Kush and the Indus River (today's Pakistan) was the native land of the Afghan tribes. They called this land \"Afghanistan\" (meaning \"land of the Afghans\"). The Afghans ruled the rich northern Indian subcontinent with their capital at Delhi. From the 16th to the early 18th century, Afghanistan was disputed between the Safavids of Isfahan and the Mughals of Agra who had replaced the Lodi and Suri Afghan rulers in India. The Safavids and Mughals occasionally oppressed the native Afghans but at the same time the Afghans used each empire to punish the other. In 1709, the Hotaki Afghans rose to power and completely defeated the Persian Empire. Then they marched towards the Mughals of India and nominally defeated them with the help of the Afsharid forces under Nader Shah Afshar.\n",
      "\n",
      "In 1747, after Nader Shah of Persia was killed, a great leader named Ahmad Shah Durrani united all the different Muslim tribes and established the Afghan Empire (Durrani Empire). He is considered the founding father of the modern state of Afghanistan while Mirwais Hotak is the grandfather of the nation.\n",
      "\n",
      "---\n",
      "\n",
      "Prehistory \n",
      "\n",
      "Archaeologists digging a cave in what is now northeastern Afghanistan (in Badakhshan), discovered that people lived in the country as early as 100,000 years ago. They found the skull of a Neanderthal, or early human, as well as tools from about 30,000 years ago. In other parts of Afghanistan, archaeologists uncovered pottery and tools that are 4,000 to 11,000 years old—evidence that Afghans were among the first people in the world to grow crops and raise animals.\n",
      "\n",
      "Farmers and herders settled in the plains surrounding the Hindu Kush as early as 7000 B.C. These people may have grown rich off the lapis lazuli they found along riverbeds, which they traded to early city sites to the west, across the Iranian plateau and Mesopotamia. As farms and villages grew and thrived in Afghanistan, these ancient people eventually invented irrigation (digging ditches for water so it flows to crops) that allowed them to grow crops on the northern Afghanistan desert plains. This civilization (advanced state of organization) is today called BMAC (Bactria–Margiana Archaeological Complex), or the \"Oxus civilization\".\n",
      "\n",
      "The Oxus civilization expanded as far east as western edge of the Indus Valley during the period between 2200 and 1800 B.C. These people, who were the ancestors of the Indo-Aryans, used the term \"Aryan\" to identify their ethnicity, culture, and religion. Scholars know this when they read the ancient texts of these people; the Avesta of Iranic peoples and the Vedas of Indo-Aryans.\n",
      "\n",
      "Zoroaster, the founder of the Zoroastrian religion, the world's earliest monotheistic religion, (meaning a religion believing in one god) lived in the area (somewhere north of today's Afghanistan), around 1000 B.C.\n",
      "\n",
      "---\n",
      "\n",
      "In the 10th century, the local Ghaznavids turned Ghazni into their capital and firmly established Islam throughout all areas of Afghanistan, except the Kafiristan region in the northeast. Mahmud of Ghazni, a great Ghaznavid sultan, conquered the Multan and Punjab region, and carried raids into the heart of India. Mohammed bin Abdul Jabbar Utbi (Al-Utbi), a historian from the 10th century, wrote that thousands of \"Afghans\" were in the Ghaznavid army. The Ghaznavid dynasty was replaced by the Ghorids of Ghor in the late 12th century, who reconquered Ghaznavid territory in the name of Islam and ruled it until 1206. The Ghorid army also included ethnic Afghans.\n",
      "\n",
      "Afghanistan was recognized as Khorasan, meaning \"land of the rising sun,\" which was a prosperous and independent geographic region reaching as far as the Indus River.\n",
      "\n",
      "All the major cities of modern Afghanistan were centers of science and culture in the past. The New Persian literature arose and flourished in the area. The early Persian poets such as Rudaki were from what is now Afghanistan. Moreover, Ferdowsi, the author of Shahnameh, the national epic of Iran, and Rumi, the famous Sufi poet, were also from modern-day Afghanistan. It has produced scientists such as Avicenna, Al-Farabi, Al-Biruni, Omar Khayyám, Al-Khwarizmi, and many others who are widely known for their important contributions in areas such as mathematics, astronomy, medicine, physics, geography, and geology. It remained the cultural capital of Persia until the devastating Mongol invasion in the 13th century.\n",
      "\n",
      "---\n",
      "\n",
      "Ancient history \n",
      "\n",
      "Before the middle of the sixth century BCE, Afghanistan was held by the Medes.\n",
      "Then the Achaemenids took over control of the land and made it part of the Persian empire. Alexander the great defeated and conquered the Persian Empire in 330 BCE. He founded some cities in the area. The people used Macedonian culture and language. After Alexander, Greco-Bactrians, Scythians, Kushans, Parthians and Sassanians ruled the area.\n",
      "\n",
      "Kushans spread Buddhism from India in the 1st century BCE, and Buddhism remained an important religion in the area until the Islamic conquest in the 7th century CE.\n",
      "\n",
      "The Buddhas of Bamiyan were giant statues, a reminder of Buddhism in Afghanistan. They were destroyed by the Taliban in 2001. There were international protests. The Taliban believe that the ancient statues were un-Islamic and that they had a right to destroy them.\n",
      "\n",
      "Medieval history \n",
      "\n",
      "Arabs introduced Islam in the 7th century and slowly began spreading the new religion. In the 9th and 10th centuries, many local Islamic dynasties rose to power inside Afghanistan. One of the earliest was the Tahirids, whose kingdom included Balkh and Herat; they established independence from the Abbasids in 820. The Tahirids were succeeded in about 867 by the Saffarids of Zaranj in western Afghanistan. Local princes in the north soon became feudatories of the powerful Samanids, who ruled from Bukhara. From 872 to 999, north of the Hindu Kush in Afghanistan enjoyed a golden age under Samanid rule.\n",
      "\n",
      "---\n",
      "\n",
      "Everything2 or E2 is a website.  It lets people make pages about many different things, and some people use it as a diary.\n",
      "\n",
      "E2 users create pages called nodes and add stuff in writeups.  Only logged-in users can create writeups.  Only the person who created the writeup or someone who the website owners (called \"gods\") choose can edit the writeup.  On the other hand, on Wikipedia, anyone can edit pages, but on Everything2 only those who can edit the writeup can edit pages.\n",
      "\n",
      "Everything2 does not require a neutral point of view like Wikipedia does. So, it is possible to have more than one article (writeups) under the same title (node), each by different authors, and presenting different points of view.\n",
      "\n",
      "Other websites \n",
      " Everything2 website\n",
      " Everything2.com article about Wikipedia\n",
      "\n",
      "Websites\n",
      "\n",
      "---\n",
      "\n",
      "Classical architecture was formal, and it always obeyed laws. It used symmetry, which really means balance, and it used proportion between shapes. The Golden Mean was a rule which said, (to put it simply) if you are making a room, or any other thing, it will work best if you always make the long side 1.6 times as long as the short side. There are many 'laws' in classical architecture, like how high the middle of an arched bridge needs to be (which depends on how wide the bridge needs to be). These laws were learned from thousands of years of experience and they are often used today. However, today more notice is taken of specific facts, such as what wind speeds occur once or twice in a century. Several bridges have blown down because that was not properly taken into consideration.\n",
      "\n",
      "In some parts of the world, like India, the architecture is famous for carving the stone on temples and palaces. Different architectural styles occur in China, Japan, Southeast Asia, Africa, Mexico, and Central and South America.\n",
      "\n",
      "Architects in Western Europe in the Middle Ages made Romanesque architecture, then Gothic architecture. Gothic buildings have tall, pointed windows and arches. Many churches have Gothic architecture. Castles were also built at this time. In Eastern Europe, churches usually had domes. People added their own ideas and decoration to the Classical Architecture of the past. The Renaissance brought a return to classical ideas.\n",
      "\n",
      "Question: write an article titled: what is the India Tajmahal?\n",
      "Answer:\n"
     ]
    }
   ],
   "source": [
    "query = \"write an article titled: what is the India Tajmahal?\"\n",
    "embed = get_embeddings([query])\n",
    "res = index.query(vector=embed.data[0].embedding, top_k=3, include_metadata=True)\n",
    "\n",
    "contexts = [\n",
    "    x['metadata']['text'] for x in res['matches']\n",
    "]\n",
    "\n",
    "prompt_start = (\n",
    "    \"Answer the question based on the context below.\\n\\n\"+\n",
    "    \"Context:\\n\"\n",
    ")\n",
    "\n",
    "prompt_end = (\n",
    "    f\"\\n\\nQuestion: {query}\\nAnswer:\"\n",
    ")\n",
    "\n",
    "prompt = (\n",
    "    prompt_start + \"\\n\\n---\\n\\n\".join(contexts) + \n",
    "    prompt_end\n",
    ")\n",
    "\n",
    "print(prompt)"
   ]
  },
  {
   "cell_type": "markdown",
   "id": "c457d658",
   "metadata": {},
   "source": [
    "### Get the Summary "
   ]
  },
  {
   "cell_type": "code",
   "execution_count": null,
   "id": "7e985a43-5d35-4173-9ae1-3efef399c379",
   "metadata": {
    "height": 30
   },
   "outputs": [],
   "source": []
  },
  {
   "cell_type": "code",
   "execution_count": 15,
   "id": "35f60303",
   "metadata": {
    "height": 217
   },
   "outputs": [
    {
     "name": "stdout",
     "output_type": "stream",
     "text": [
      "--------------------------------------------------------------------------------\n",
      "\n",
      "\n",
      "The Taj Mahal is a famous monument located in Agra, India. It is considered one of the most beautiful and iconic buildings in the world, and is recognized as a symbol of love and devotion.\n",
      "\n",
      "The Taj Mahal was built by the Mughal emperor Shah Jahan in memory of his beloved wife, Mumtaz Mahal. Construction of the monument began in 1632 and took over 20 years to complete. It is said that over 20,000 workers were involved in the construction of the Taj Mahal, which is made entirely of white marble.\n",
      "\n",
      "The design of the Taj Mahal is a blend of Islamic, Persian, and Indian architectural styles. The main structure is a large white dome, surrounded by four smaller domes and four minarets. The intricate carvings and inlaid designs on the marble walls and floors are a testament to the skilled craftsmanship of the Mughal artisans.\n",
      "\n",
      "The Taj Mahal is not only a beautiful architectural masterpiece, but it also holds great historical and cultural significance. It is a symbol of the Mughal empire and its influence on Indian culture. The gardens surrounding the monument are also a popular attraction, with fountains, reflecting pools, and lush greenery.\n",
      "\n",
      "Today, the Taj Mahal is a UNESCO World Heritage Site and attracts millions of visitors from all over the world. It is a must-see for anyone traveling to India, and its beauty and grandeur continue to captivate people to this day. The Taj Mahal truly is a wonder of the world and a testament to the enduring power of love.\n"
     ]
    }
   ],
   "source": [
    "res = openai_client.completions.create(\n",
    "    model=\"gpt-3.5-turbo-instruct\",\n",
    "    prompt=prompt,\n",
    "    temperature=0,\n",
    "    max_tokens=636,\n",
    "    top_p=1,\n",
    "    frequency_penalty=0,\n",
    "    presence_penalty=0,\n",
    "    stop=None\n",
    ")\n",
    "print('-' * 80)\n",
    "print(res.choices[0].text)"
   ]
  },
  {
   "cell_type": "code",
   "execution_count": null,
   "id": "49b9aa80",
   "metadata": {
    "height": 30
   },
   "outputs": [],
   "source": []
  },
  {
   "cell_type": "code",
   "execution_count": null,
   "id": "42734125",
   "metadata": {
    "height": 30
   },
   "outputs": [],
   "source": []
  },
  {
   "cell_type": "code",
   "execution_count": null,
   "id": "1b568752",
   "metadata": {
    "height": 30
   },
   "outputs": [],
   "source": []
  }
 ],
 "metadata": {
  "kernelspec": {
   "display_name": "Python 3 (ipykernel)",
   "language": "python",
   "name": "python3"
  },
  "language_info": {
   "codemirror_mode": {
    "name": "ipython",
    "version": 3
   },
   "file_extension": ".py",
   "mimetype": "text/x-python",
   "name": "python",
   "nbconvert_exporter": "python",
   "pygments_lexer": "ipython3",
   "version": "3.11.7"
  }
 },
 "nbformat": 4,
 "nbformat_minor": 5
}
